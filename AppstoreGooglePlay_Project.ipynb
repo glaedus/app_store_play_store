{
 "cells": [
  {
   "cell_type": "markdown",
   "metadata": {},
   "source": [
    "# Dataquest App Profiles for App Store and Google Play Store\n",
    "\n",
    "Purpose: To help developers understand what type of apps are likely to attract more users on Google Play and the App Store"
   ]
  },
  {
   "cell_type": "code",
   "execution_count": 1,
   "metadata": {},
   "outputs": [],
   "source": [
    "# function to open datasets\n",
    "\n",
    "def open_sesame(data):\n",
    "    opened_file=open(data)\n",
    "    from csv import reader\n",
    "    read_file=reader(opened_file)\n",
    "    dataset=list(read_file)\n",
    "    return dataset\n",
    "\n",
    "Apple=open_sesame('AppleStore.csv')\n",
    "Android=open_sesame('googleplaystore.csv')"
   ]
  },
  {
   "cell_type": "code",
   "execution_count": 2,
   "metadata": {},
   "outputs": [
    {
     "name": "stdout",
     "output_type": "stream",
     "text": [
      "['id', 'track_name', 'size_bytes', 'currency', 'price', 'rating_count_tot', 'rating_count_ver', 'user_rating', 'user_rating_ver', 'ver', 'cont_rating', 'prime_genre', 'sup_devices.num', 'ipadSc_urls.num', 'lang.num', 'vpp_lic']\n",
      "\n",
      "\n",
      "['284882215', 'Facebook', '389879808', 'USD', '0.0', '2974676', '212', '3.5', '3.5', '95.0', '4+', 'Social Networking', '37', '1', '29', '1']\n",
      "\n",
      "\n",
      "['389801252', 'Instagram', '113954816', 'USD', '0.0', '2161558', '1289', '4.5', '4.0', '10.23', '12+', 'Photo & Video', '37', '0', '29', '1']\n",
      "\n",
      "\n",
      "['529479190', 'Clash of Clans', '116476928', 'USD', '0.0', '2130805', '579', '4.5', '4.5', '9.24.12', '9+', 'Games', '38', '5', '18', '1']\n",
      "\n",
      "\n",
      "['420009108', 'Temple Run', '65921024', 'USD', '0.0', '1724546', '3842', '4.5', '4.0', '1.6.2', '9+', 'Games', '40', '5', '1', '1']\n",
      "\n",
      "\n",
      "Number of rows: 7198\n",
      "Number of columns: 16\n",
      "['App', 'Category', 'Rating', 'Reviews', 'Size', 'Installs', 'Type', 'Price', 'Content Rating', 'Genres', 'Last Updated', 'Current Ver', 'Android Ver']\n",
      "\n",
      "\n",
      "['Photo Editor & Candy Camera & Grid & ScrapBook', 'ART_AND_DESIGN', '4.1', '159', '19M', '10,000+', 'Free', '0', 'Everyone', 'Art & Design', 'January 7, 2018', '1.0.0', '4.0.3 and up']\n",
      "\n",
      "\n",
      "['Coloring book moana', 'ART_AND_DESIGN', '3.9', '967', '14M', '500,000+', 'Free', '0', 'Everyone', 'Art & Design;Pretend Play', 'January 15, 2018', '2.0.0', '4.0.3 and up']\n",
      "\n",
      "\n",
      "['U Launcher Lite – FREE Live Cool Themes, Hide Apps', 'ART_AND_DESIGN', '4.7', '87510', '8.7M', '5,000,000+', 'Free', '0', 'Everyone', 'Art & Design', 'August 1, 2018', '1.2.4', '4.0.3 and up']\n",
      "\n",
      "\n",
      "['Sketch - Draw & Paint', 'ART_AND_DESIGN', '4.5', '215644', '25M', '50,000,000+', 'Free', '0', 'Teen', 'Art & Design', 'June 8, 2018', 'Varies with device', '4.2 and up']\n",
      "\n",
      "\n",
      "Number of rows: 10842\n",
      "Number of columns: 13\n"
     ]
    }
   ],
   "source": [
    "# function to explore dataset \n",
    "\n",
    "def explore_data(dataset, start, end, rows_and_columns=False):\n",
    "    dataset_slice = dataset[start:end]    \n",
    "    for row in dataset_slice:\n",
    "        print(row)\n",
    "        print('\\n') \n",
    "\n",
    "    if rows_and_columns:\n",
    "        print('Number of rows:', len(dataset))\n",
    "        print('Number of columns:', len(dataset[0]))\n",
    "\n",
    "explore_data(Apple,0,5,rows_and_columns=True)\n",
    "explore_data(Android,0,5,rows_and_columns=True)"
   ]
  },
  {
   "cell_type": "markdown",
   "metadata": {},
   "source": [
    "## Data Cleaning\n",
    "\n",
    "- Removing missing entries\n",
    "\n",
    "- Removing duplicate entries\n",
    "\n",
    "- Removing non-English apps\n",
    "\n",
    "- Removing apps that are not free"
   ]
  },
  {
   "cell_type": "code",
   "execution_count": 3,
   "metadata": {},
   "outputs": [
    {
     "name": "stdout",
     "output_type": "stream",
     "text": [
      "['Life Made WI-Fi Touchscreen Photo Frame', '1.9', '19', '3.0M', '1,000+', 'Free', '0', 'Everyone', '', 'February 11, 2018', '1.0.19', '4.0 and up']\n",
      "Row 10473 has missing data!!\n"
     ]
    }
   ],
   "source": [
    "# to find out which rows have missing data\n",
    "\n",
    "for row in Android:\n",
    "    header_length = len(Android[0])\n",
    "    row_length = len(row)\n",
    "    if row_length != header_length:\n",
    "        print(row)\n",
    "        print('Row '+ str(Android.index(row)) + ' has missing data!!')\n",
    "        "
   ]
  },
  {
   "cell_type": "code",
   "execution_count": 4,
   "metadata": {},
   "outputs": [
    {
     "name": "stdout",
     "output_type": "stream",
     "text": [
      "Row 10473 has been deleted due to missing data!\n"
     ]
    }
   ],
   "source": [
    "# found out Row 10473's Category data and Genres data are missing\n",
    "# used loop to delete row so that won't delete more than once \n",
    "\n",
    "for row in Android:\n",
    "    header_length = len(Android[0])\n",
    "    row_length = len(row)\n",
    "    if row_length != header_length:\n",
    "        print('Row '+ str(Android.index(row))+ ' has been deleted due to missing data!')\n",
    "        del row"
   ]
  },
  {
   "cell_type": "code",
   "execution_count": 5,
   "metadata": {},
   "outputs": [],
   "source": [
    "# created a function to find missing data and then delete the row\n",
    "\n",
    "def missing_data_deleted(dataset):\n",
    "    for row in dataset:\n",
    "        header_length = len(dataset[0])\n",
    "        row_length = len(row)\n",
    "        if row_length != header_length:\n",
    "            print(row)\n",
    "            row_index=dataset.index(row)\n",
    "            print('Row '+ str(row_index) + ' has missing data!!')\n",
    "            print('Row '+ str(row_index)+ ' from' + ' dataset'+ ' has been deleted due to missing data!')\n",
    "            del dataset[row_index]\n",
    "    return dataset\n"
   ]
  },
  {
   "cell_type": "code",
   "execution_count": 6,
   "metadata": {},
   "outputs": [
    {
     "name": "stdout",
     "output_type": "stream",
     "text": [
      "['Life Made WI-Fi Touchscreen Photo Frame', '1.9', '19', '3.0M', '1,000+', 'Free', '0', 'Everyone', '', 'February 11, 2018', '1.0.19', '4.0 and up']\n",
      "Row 10473 has missing data!!\n",
      "Row 10473 from dataset has been deleted due to missing data!\n"
     ]
    }
   ],
   "source": [
    "Android=missing_data_deleted(Android)"
   ]
  },
  {
   "cell_type": "code",
   "execution_count": 7,
   "metadata": {},
   "outputs": [],
   "source": [
    "Apple=missing_data_deleted(Apple)"
   ]
  },
  {
   "cell_type": "code",
   "execution_count": 8,
   "metadata": {},
   "outputs": [
    {
     "name": "stdout",
     "output_type": "stream",
     "text": [
      "['id', 'track_name', 'size_bytes', 'currency', 'price', 'rating_count_tot', 'rating_count_ver', 'user_rating', 'user_rating_ver', 'ver', 'cont_rating', 'prime_genre', 'sup_devices.num', 'ipadSc_urls.num', 'lang.num', 'vpp_lic']\n",
      "\n",
      "\n",
      "['284882215', 'Facebook', '389879808', 'USD', '0.0', '2974676', '212', '3.5', '3.5', '95.0', '4+', 'Social Networking', '37', '1', '29', '1']\n",
      "\n",
      "\n",
      "['389801252', 'Instagram', '113954816', 'USD', '0.0', '2161558', '1289', '4.5', '4.0', '10.23', '12+', 'Photo & Video', '37', '0', '29', '1']\n",
      "\n",
      "\n",
      "Number of rows: 7198\n",
      "Number of columns: 16\n",
      "['App', 'Category', 'Rating', 'Reviews', 'Size', 'Installs', 'Type', 'Price', 'Content Rating', 'Genres', 'Last Updated', 'Current Ver', 'Android Ver']\n",
      "\n",
      "\n",
      "['Photo Editor & Candy Camera & Grid & ScrapBook', 'ART_AND_DESIGN', '4.1', '159', '19M', '10,000+', 'Free', '0', 'Everyone', 'Art & Design', 'January 7, 2018', '1.0.0', '4.0.3 and up']\n",
      "\n",
      "\n",
      "['Coloring book moana', 'ART_AND_DESIGN', '3.9', '967', '14M', '500,000+', 'Free', '0', 'Everyone', 'Art & Design;Pretend Play', 'January 15, 2018', '2.0.0', '4.0.3 and up']\n",
      "\n",
      "\n",
      "Number of rows: 10841\n",
      "Number of columns: 13\n"
     ]
    }
   ],
   "source": [
    "# confirm if there is indeed a reduction in rows in the dataset\n",
    "\n",
    "explore_data(Apple,0,3,True)\n",
    "explore_data(Android,0,3,True)"
   ]
  },
  {
   "cell_type": "markdown",
   "metadata": {},
   "source": [
    "Successfully removed rows with missing data. Now, I gotta identify and remove the duplicate entries"
   ]
  },
  {
   "cell_type": "code",
   "execution_count": 9,
   "metadata": {},
   "outputs": [
    {
     "name": "stdout",
     "output_type": "stream",
     "text": [
      "There are 1181 duplicate apps\n",
      "Some examples are ['Quick PDF Scanner + OCR FREE', 'Box', 'Google My Business', 'ZOOM Cloud Meetings', 'join.me - Simple Meetings']\n"
     ]
    }
   ],
   "source": [
    "Android_unique=[] # empty list to hold names of unique entries \n",
    "Android_duplicates=[] # empty list to hold names of duplicate entries\n",
    "\n",
    "for i in Android[1:]:\n",
    "    name=i[0]\n",
    "    if name not in Android_unique:\n",
    "        Android_unique.append(name)\n",
    "    else:\n",
    "        Android_duplicates.append(name)\n",
    "\n",
    "print('There are {} duplicate apps'.format(len(Android_duplicates)))\n",
    "print('Some examples are {}'.format(Android_duplicates[:5]))"
   ]
  },
  {
   "cell_type": "markdown",
   "metadata": {},
   "source": [
    "I will be keeping the most updated duplicate entry which will be based on highest number of reviews"
   ]
  },
  {
   "cell_type": "markdown",
   "metadata": {},
   "source": [
    "#### Cleaning for Android dataset first"
   ]
  },
  {
   "cell_type": "code",
   "execution_count": 10,
   "metadata": {},
   "outputs": [
    {
     "name": "stdout",
     "output_type": "stream",
     "text": [
      "Expected length of updated dataset: 9659\n"
     ]
    }
   ],
   "source": [
    "print('Expected length of updated dataset:',len(Android[1:])-1181)"
   ]
  },
  {
   "cell_type": "code",
   "execution_count": 11,
   "metadata": {},
   "outputs": [
    {
     "name": "stdout",
     "output_type": "stream",
     "text": [
      "9659\n"
     ]
    }
   ],
   "source": [
    "# store values of highest ratings for apps\n",
    "\n",
    "reviews_max={}\n",
    "\n",
    "for i in Android[1:]:\n",
    "    name=i[0]\n",
    "    n_reviews=i[3]\n",
    "    if name in reviews_max and reviews_max[name]< n_reviews:\n",
    "        reviews_max[name]=n_reviews\n",
    "    elif name not in reviews_max:\n",
    "        reviews_max[name]=n_reviews\n",
    "\n",
    "# Check if it matches expected length of updated dataset\n",
    "\n",
    "print(len(reviews_max))\n"
   ]
  },
  {
   "cell_type": "code",
   "execution_count": 12,
   "metadata": {},
   "outputs": [
    {
     "name": "stdout",
     "output_type": "stream",
     "text": [
      "['Photo Editor & Candy Camera & Grid & ScrapBook', 'ART_AND_DESIGN', '4.1', '159', '19M', '10,000+', 'Free', '0', 'Everyone', 'Art & Design', 'January 7, 2018', '1.0.0', '4.0.3 and up']\n",
      "\n",
      "\n",
      "['U Launcher Lite – FREE Live Cool Themes, Hide Apps', 'ART_AND_DESIGN', '4.7', '87510', '8.7M', '5,000,000+', 'Free', '0', 'Everyone', 'Art & Design', 'August 1, 2018', '1.2.4', '4.0.3 and up']\n",
      "\n",
      "\n",
      "['Sketch - Draw & Paint', 'ART_AND_DESIGN', '4.5', '215644', '25M', '50,000,000+', 'Free', '0', 'Teen', 'Art & Design', 'June 8, 2018', 'Varies with device', '4.2 and up']\n",
      "\n",
      "\n",
      "['Pixel Draw - Number Art Coloring Book', 'ART_AND_DESIGN', '4.3', '967', '2.8M', '100,000+', 'Free', '0', 'Everyone', 'Art & Design;Creativity', 'June 20, 2018', '1.1', '4.4 and up']\n",
      "\n",
      "\n",
      "Number of rows: 9659\n",
      "Number of columns: 13\n"
     ]
    }
   ],
   "source": [
    "Android_unique=[]\n",
    "already_added=[]\n",
    "\n",
    "# add to the Android_unique list if the number of reviews is the highest and was not in the already_added list\n",
    "\n",
    "for i in Android[1:]:\n",
    "    name=i[0]\n",
    "    n_reviews=i[3]\n",
    "    if n_reviews==reviews_max[name] and name not in already_added:\n",
    "        Android_unique.append(i)\n",
    "        already_added.append(name)\n",
    "\n",
    "# verify if number of rows is as expected\n",
    "\n",
    "explore_data(Android_unique,0,4,True)"
   ]
  },
  {
   "cell_type": "markdown",
   "metadata": {},
   "source": [
    "As shown above, the Android dataset no longer has any duplicates and no missing data"
   ]
  },
  {
   "cell_type": "markdown",
   "metadata": {},
   "source": [
    "#### Check for duplicates in Apple dataset, similar to what I did for Android dataset"
   ]
  },
  {
   "cell_type": "code",
   "execution_count": 13,
   "metadata": {},
   "outputs": [
    {
     "name": "stdout",
     "output_type": "stream",
     "text": [
      "There are 2 duplicate apps\n",
      "Some examples are ['Mannequin Challenge', 'VR Roller Coaster']\n"
     ]
    }
   ],
   "source": [
    "Apple_unique=[] # empty list to hold names of unique entries \n",
    "Apple_duplicates=[] # empty list to hold names of duplicate entries\n",
    "\n",
    "for i in Apple[1:]:\n",
    "    name=i[1]\n",
    "    if name not in Apple_unique:\n",
    "        Apple_unique.append(name)\n",
    "    else:\n",
    "        Apple_duplicates.append(name)\n",
    "\n",
    "print('There are {} duplicate apps'.format(len(Apple_duplicates)))\n",
    "print('Some examples are {}'.format(Apple_duplicates[:5]))"
   ]
  },
  {
   "cell_type": "markdown",
   "metadata": {},
   "source": [
    "#### Cleaning for Apple dataset"
   ]
  },
  {
   "cell_type": "code",
   "execution_count": 14,
   "metadata": {},
   "outputs": [
    {
     "name": "stdout",
     "output_type": "stream",
     "text": [
      "Expected length of updated dataset: 7195\n"
     ]
    }
   ],
   "source": [
    "print('Expected length of updated dataset:',len(Apple[1:])-2)"
   ]
  },
  {
   "cell_type": "code",
   "execution_count": 15,
   "metadata": {},
   "outputs": [
    {
     "name": "stdout",
     "output_type": "stream",
     "text": [
      "7195\n"
     ]
    }
   ],
   "source": [
    "# store values of highest ratings for apps\n",
    "\n",
    "reviews_max_apple={}\n",
    "\n",
    "for i in Apple[1:]:\n",
    "    name=i[1]\n",
    "    n_reviews=i[5]\n",
    "    if name in reviews_max_apple and reviews_max_apple[name]< n_reviews:\n",
    "        reviews_max_apple[name]=n_reviews\n",
    "    elif name not in reviews_max_apple:\n",
    "        reviews_max_apple[name]=n_reviews\n",
    "\n",
    "# Check if it matches expected length of updated dataset\n",
    "\n",
    "print(len(reviews_max_apple))\n"
   ]
  },
  {
   "cell_type": "code",
   "execution_count": 16,
   "metadata": {},
   "outputs": [
    {
     "name": "stdout",
     "output_type": "stream",
     "text": [
      "['284882215', 'Facebook', '389879808', 'USD', '0.0', '2974676', '212', '3.5', '3.5', '95.0', '4+', 'Social Networking', '37', '1', '29', '1']\n",
      "\n",
      "\n",
      "['389801252', 'Instagram', '113954816', 'USD', '0.0', '2161558', '1289', '4.5', '4.0', '10.23', '12+', 'Photo & Video', '37', '0', '29', '1']\n",
      "\n",
      "\n",
      "['529479190', 'Clash of Clans', '116476928', 'USD', '0.0', '2130805', '579', '4.5', '4.5', '9.24.12', '9+', 'Games', '38', '5', '18', '1']\n",
      "\n",
      "\n",
      "['420009108', 'Temple Run', '65921024', 'USD', '0.0', '1724546', '3842', '4.5', '4.0', '1.6.2', '9+', 'Games', '40', '5', '1', '1']\n",
      "\n",
      "\n",
      "Number of rows: 7195\n",
      "Number of columns: 16\n"
     ]
    }
   ],
   "source": [
    "Apple_unique=[]\n",
    "already_added_apple=[]\n",
    "\n",
    "# add to the Apple_unique list if the number of reviews is the highest and was not in the already_added_apple list\n",
    "\n",
    "for i in Apple[1:]:\n",
    "    name=i[1]\n",
    "    n_reviews=i[5]\n",
    "    if n_reviews==reviews_max_apple[name] and name not in already_added_apple:\n",
    "        Apple_unique.append(i)\n",
    "        already_added_apple.append(name)\n",
    "\n",
    "# verify if number of rows is as expected\n",
    "\n",
    "explore_data(Apple_unique,0,4,True)"
   ]
  },
  {
   "cell_type": "markdown",
   "metadata": {},
   "source": [
    "Now both Android and Apple datasets have no missing data and no duplicates"
   ]
  },
  {
   "cell_type": "markdown",
   "metadata": {},
   "source": [
    "#### Remove non-English Apps"
   ]
  },
  {
   "cell_type": "code",
   "execution_count": 17,
   "metadata": {},
   "outputs": [
    {
     "name": "stdout",
     "output_type": "stream",
     "text": [
      "True\n",
      "False\n"
     ]
    }
   ],
   "source": [
    "# function to check if any characters in string are not English\n",
    "# if there are more than 3 characters not in ASCII range, the function returns False\n",
    "\n",
    "def check_english(a_string):\n",
    "    count=0\n",
    "    for i in a_string:\n",
    "        if ord(i) >127:\n",
    "            count+=1\n",
    "    if count>3:\n",
    "        return False\n",
    "    return True \n",
    "print(check_english('Instachat 😜'))\n",
    "print(check_english('爱奇艺PPS -《欢乐颂2》电视剧热播'))"
   ]
  },
  {
   "cell_type": "code",
   "execution_count": 18,
   "metadata": {},
   "outputs": [
    {
     "name": "stdout",
     "output_type": "stream",
     "text": [
      "['Photo Editor & Candy Camera & Grid & ScrapBook', 'ART_AND_DESIGN', '4.1', '159', '19M', '10,000+', 'Free', '0', 'Everyone', 'Art & Design', 'January 7, 2018', '1.0.0', '4.0.3 and up']\n",
      "\n",
      "\n",
      "['U Launcher Lite – FREE Live Cool Themes, Hide Apps', 'ART_AND_DESIGN', '4.7', '87510', '8.7M', '5,000,000+', 'Free', '0', 'Everyone', 'Art & Design', 'August 1, 2018', '1.2.4', '4.0.3 and up']\n",
      "\n",
      "\n",
      "['Sketch - Draw & Paint', 'ART_AND_DESIGN', '4.5', '215644', '25M', '50,000,000+', 'Free', '0', 'Teen', 'Art & Design', 'June 8, 2018', 'Varies with device', '4.2 and up']\n",
      "\n",
      "\n",
      "['Pixel Draw - Number Art Coloring Book', 'ART_AND_DESIGN', '4.3', '967', '2.8M', '100,000+', 'Free', '0', 'Everyone', 'Art & Design;Creativity', 'June 20, 2018', '1.1', '4.4 and up']\n",
      "\n",
      "\n",
      "Number of rows: 9614\n",
      "Number of columns: 13\n"
     ]
    }
   ],
   "source": [
    "Android_unique_ENG=[] # list of only english apps for android dataset\n",
    "\n",
    "for i in Android_unique:\n",
    "    name=i[0]\n",
    "    if check_english(name):\n",
    "        Android_unique_ENG.append(i)\n",
    "\n",
    "explore_data(Android_unique_ENG,0,4, True)        \n"
   ]
  },
  {
   "cell_type": "code",
   "execution_count": 19,
   "metadata": {},
   "outputs": [
    {
     "name": "stdout",
     "output_type": "stream",
     "text": [
      "['284882215', 'Facebook', '389879808', 'USD', '0.0', '2974676', '212', '3.5', '3.5', '95.0', '4+', 'Social Networking', '37', '1', '29', '1']\n",
      "\n",
      "\n",
      "['389801252', 'Instagram', '113954816', 'USD', '0.0', '2161558', '1289', '4.5', '4.0', '10.23', '12+', 'Photo & Video', '37', '0', '29', '1']\n",
      "\n",
      "\n",
      "['529479190', 'Clash of Clans', '116476928', 'USD', '0.0', '2130805', '579', '4.5', '4.5', '9.24.12', '9+', 'Games', '38', '5', '18', '1']\n",
      "\n",
      "\n",
      "['420009108', 'Temple Run', '65921024', 'USD', '0.0', '1724546', '3842', '4.5', '4.0', '1.6.2', '9+', 'Games', '40', '5', '1', '1']\n",
      "\n",
      "\n",
      "Number of rows: 6181\n",
      "Number of columns: 16\n"
     ]
    }
   ],
   "source": [
    "Apple_unique_ENG=[] # list of only english apps for Apple dataset\n",
    "\n",
    "for i in Apple_unique:\n",
    "    name=i[1]\n",
    "    if check_english(name):\n",
    "        Apple_unique_ENG.append(i)\n",
    "explore_data(Apple_unique_ENG,0,4, True) "
   ]
  },
  {
   "cell_type": "markdown",
   "metadata": {},
   "source": [
    "#### Both Android and Apple datasets now only have English apps, do not have missing data and do not have duplicates"
   ]
  },
  {
   "cell_type": "code",
   "execution_count": 20,
   "metadata": {},
   "outputs": [],
   "source": [
    "Android_free_ENG=[]\n",
    "Apple_free_ENG=[]\n",
    "\n",
    "for i in Android_unique_ENG:\n",
    "    price=(i[6])\n",
    "    if price == 'Free':\n",
    "        Android_free_ENG.append(i)\n",
    "\n",
    "for i in Apple_unique_ENG:\n",
    "    price=float(i[4])\n",
    "    if price == 0:\n",
    "        Apple_free_ENG.append(i) \n",
    "\n",
    "\n",
    "Android_header_row=Android[0]\n",
    "Apple_header_row=Apple[0]\n",
    "\n",
    "# add back header rows to the cleaned data\n",
    "\n",
    "Android_free_ENG.insert(0,Android_header_row)\n",
    "Apple_free_ENG.insert(0,Apple_header_row)"
   ]
  },
  {
   "cell_type": "markdown",
   "metadata": {},
   "source": [
    "Both datasets have now been completely cleaned"
   ]
  },
  {
   "cell_type": "markdown",
   "metadata": {},
   "source": [
    "## Analysing what type of app will be popular in both the App Store and Google Play store "
   ]
  },
  {
   "cell_type": "code",
   "execution_count": 21,
   "metadata": {},
   "outputs": [],
   "source": [
    "# function to generate frequency table(%) for any column of interest for any dataset\n",
    "\n",
    "def freq_table(dataset,index):\n",
    "    total=0\n",
    "    dict={}\n",
    "    for i in dataset[1:]:\n",
    "        total+=1\n",
    "        interest=i[index]\n",
    "        if interest not in dict:\n",
    "            dict[interest]=1\n",
    "        else:\n",
    "            dict[interest]+=1\n",
    "    for i in dict:\n",
    "        dict[i]/= (total/100)\n",
    "        dict[i]=round(dict[i],2)\n",
    "    \n",
    "    return dict"
   ]
  },
  {
   "cell_type": "code",
   "execution_count": 22,
   "metadata": {},
   "outputs": [],
   "source": [
    "# create a function that sorts the frequency in descending order\n",
    "\n",
    "def display_table(dataset,index):\n",
    "    sorted_dict={}\n",
    "    sorted_dict_keys=sorted(freq_table(dataset,index), key=freq_table(dataset,index).get, reverse=True)\n",
    "\n",
    "    for i in sorted_dict_keys:\n",
    "        sorted_dict[i]=freq_table(dataset,index)[i]\n",
    "\n",
    "    return sorted_dict"
   ]
  },
  {
   "cell_type": "markdown",
   "metadata": {},
   "source": [
    "### Analysis of Apple Store apps "
   ]
  },
  {
   "cell_type": "code",
   "execution_count": 23,
   "metadata": {},
   "outputs": [
    {
     "data": {
      "text/plain": [
       "{'Games': 58.14,\n",
       " 'Entertainment': 7.89,\n",
       " 'Photo & Video': 4.97,\n",
       " 'Education': 3.66,\n",
       " 'Social Networking': 3.29,\n",
       " 'Shopping': 2.61,\n",
       " 'Utilities': 2.52,\n",
       " 'Sports': 2.14,\n",
       " 'Music': 2.05,\n",
       " 'Health & Fitness': 2.02,\n",
       " 'Productivity': 1.74,\n",
       " 'Lifestyle': 1.58,\n",
       " 'News': 1.34,\n",
       " 'Travel': 1.24,\n",
       " 'Finance': 1.12,\n",
       " 'Weather': 0.87,\n",
       " 'Food & Drink': 0.81,\n",
       " 'Reference': 0.56,\n",
       " 'Business': 0.53,\n",
       " 'Book': 0.43,\n",
       " 'Navigation': 0.19,\n",
       " 'Medical': 0.19,\n",
       " 'Catalogs': 0.12}"
      ]
     },
     "execution_count": 23,
     "metadata": {},
     "output_type": "execute_result"
    }
   ],
   "source": [
    "# Based on prime_genre column\n",
    "\n",
    "display_table(Apple_free_ENG,11)"
   ]
  },
  {
   "cell_type": "markdown",
   "metadata": {},
   "source": [
    "The most common app genre is Games, followed by Entertainment. On the other hand, apps that are for more practical purposes are less common. \n",
    "\n",
    "Unfortunately, the Apple app store dataset does not provide the number of installs to provide more insights. "
   ]
  },
  {
   "cell_type": "markdown",
   "metadata": {},
   "source": [
    "### Analysis of Android Google Play Store apps"
   ]
  },
  {
   "cell_type": "code",
   "execution_count": 24,
   "metadata": {},
   "outputs": [
    {
     "data": {
      "text/plain": [
       "{'Tools': 8.44,\n",
       " 'Entertainment': 6.07,\n",
       " 'Education': 5.35,\n",
       " 'Business': 4.59,\n",
       " 'Lifestyle': 3.89,\n",
       " 'Productivity': 3.89,\n",
       " 'Finance': 3.7,\n",
       " 'Medical': 3.52,\n",
       " 'Sports': 3.46,\n",
       " 'Personalization': 3.32,\n",
       " 'Communication': 3.24,\n",
       " 'Action': 3.1,\n",
       " 'Health & Fitness': 3.08,\n",
       " 'Photography': 2.95,\n",
       " 'News & Magazines': 2.8,\n",
       " 'Social': 2.66,\n",
       " 'Travel & Local': 2.32,\n",
       " 'Shopping': 2.25,\n",
       " 'Books & Reference': 2.14,\n",
       " 'Simulation': 2.04,\n",
       " 'Dating': 1.86,\n",
       " 'Arcade': 1.85,\n",
       " 'Video Players & Editors': 1.77,\n",
       " 'Casual': 1.75,\n",
       " 'Maps & Navigation': 1.4,\n",
       " 'Food & Drink': 1.24,\n",
       " 'Puzzle': 1.13,\n",
       " 'Racing': 0.99,\n",
       " 'Libraries & Demo': 0.94,\n",
       " 'Role Playing': 0.94,\n",
       " 'Auto & Vehicles': 0.93,\n",
       " 'Strategy': 0.9,\n",
       " 'House & Home': 0.82,\n",
       " 'Weather': 0.8,\n",
       " 'Events': 0.71,\n",
       " 'Adventure': 0.68,\n",
       " 'Comics': 0.61,\n",
       " 'Art & Design': 0.6,\n",
       " 'Beauty': 0.6,\n",
       " 'Parenting': 0.5,\n",
       " 'Card': 0.44,\n",
       " 'Casino': 0.43,\n",
       " 'Trivia': 0.42,\n",
       " 'Educational;Education': 0.39,\n",
       " 'Board': 0.37,\n",
       " 'Educational': 0.37,\n",
       " 'Education;Education': 0.34,\n",
       " 'Word': 0.26,\n",
       " 'Casual;Pretend Play': 0.24,\n",
       " 'Music': 0.2,\n",
       " 'Puzzle;Brain Games': 0.18,\n",
       " 'Entertainment;Music & Video': 0.17,\n",
       " 'Racing;Action & Adventure': 0.17,\n",
       " 'Casual;Brain Games': 0.14,\n",
       " 'Casual;Action & Adventure': 0.14,\n",
       " 'Arcade;Action & Adventure': 0.12,\n",
       " 'Action;Action & Adventure': 0.1,\n",
       " 'Educational;Pretend Play': 0.09,\n",
       " 'Board;Brain Games': 0.09,\n",
       " 'Entertainment;Brain Games': 0.08,\n",
       " 'Simulation;Action & Adventure': 0.08,\n",
       " 'Parenting;Education': 0.08,\n",
       " 'Art & Design;Creativity': 0.07,\n",
       " 'Educational;Brain Games': 0.07,\n",
       " 'Casual;Creativity': 0.07,\n",
       " 'Parenting;Music & Video': 0.07,\n",
       " 'Education;Pretend Play': 0.06,\n",
       " 'Education;Creativity': 0.05,\n",
       " 'Role Playing;Pretend Play': 0.05,\n",
       " 'Education;Brain Games': 0.03,\n",
       " 'Entertainment;Creativity': 0.03,\n",
       " 'Educational;Creativity': 0.03,\n",
       " 'Adventure;Action & Adventure': 0.03,\n",
       " 'Role Playing;Action & Adventure': 0.03,\n",
       " 'Educational;Action & Adventure': 0.03,\n",
       " 'Entertainment;Action & Adventure': 0.03,\n",
       " 'Puzzle;Action & Adventure': 0.03,\n",
       " 'Education;Action & Adventure': 0.03,\n",
       " 'Education;Music & Video': 0.03,\n",
       " 'Casual;Education': 0.02,\n",
       " 'Music;Music & Video': 0.02,\n",
       " 'Simulation;Pretend Play': 0.02,\n",
       " 'Puzzle;Creativity': 0.02,\n",
       " 'Sports;Action & Adventure': 0.02,\n",
       " 'Board;Action & Adventure': 0.02,\n",
       " 'Entertainment;Pretend Play': 0.02,\n",
       " 'Video Players & Editors;Music & Video': 0.02,\n",
       " 'Comics;Creativity': 0.01,\n",
       " 'Lifestyle;Pretend Play': 0.01,\n",
       " 'Card;Brain Games': 0.01,\n",
       " 'Art & Design;Pretend Play': 0.01,\n",
       " 'Entertainment;Education': 0.01,\n",
       " 'Arcade;Pretend Play': 0.01,\n",
       " 'Art & Design;Action & Adventure': 0.01,\n",
       " 'Strategy;Action & Adventure': 0.01,\n",
       " 'Music & Audio;Music & Video': 0.01,\n",
       " 'Health & Fitness;Education': 0.01,\n",
       " 'Casual;Music & Video': 0.01,\n",
       " 'Travel & Local;Action & Adventure': 0.01,\n",
       " 'Tools;Education': 0.01,\n",
       " 'Parenting;Brain Games': 0.01,\n",
       " 'Video Players & Editors;Creativity': 0.01,\n",
       " 'Health & Fitness;Action & Adventure': 0.01,\n",
       " 'Trivia;Education': 0.01,\n",
       " 'Lifestyle;Education': 0.01,\n",
       " 'Card;Action & Adventure': 0.01,\n",
       " 'Books & Reference;Education': 0.01,\n",
       " 'Simulation;Education': 0.01,\n",
       " 'Puzzle;Education': 0.01,\n",
       " 'Adventure;Education': 0.01,\n",
       " 'Role Playing;Brain Games': 0.01,\n",
       " 'Strategy;Education': 0.01,\n",
       " 'Racing;Pretend Play': 0.01,\n",
       " 'Communication;Creativity': 0.01,\n",
       " 'Strategy;Creativity': 0.01}"
      ]
     },
     "execution_count": 24,
     "metadata": {},
     "output_type": "execute_result"
    }
   ],
   "source": [
    "# Based on genre column\n",
    "\n",
    "display_table(Android_free_ENG,9)"
   ]
  },
  {
   "cell_type": "code",
   "execution_count": 25,
   "metadata": {},
   "outputs": [
    {
     "data": {
      "text/plain": [
       "{'FAMILY': 18.93,\n",
       " 'GAME': 9.69,\n",
       " 'TOOLS': 8.45,\n",
       " 'BUSINESS': 4.59,\n",
       " 'LIFESTYLE': 3.9,\n",
       " 'PRODUCTIVITY': 3.89,\n",
       " 'FINANCE': 3.7,\n",
       " 'MEDICAL': 3.52,\n",
       " 'SPORTS': 3.4,\n",
       " 'PERSONALIZATION': 3.32,\n",
       " 'COMMUNICATION': 3.24,\n",
       " 'HEALTH_AND_FITNESS': 3.08,\n",
       " 'PHOTOGRAPHY': 2.95,\n",
       " 'NEWS_AND_MAGAZINES': 2.8,\n",
       " 'SOCIAL': 2.66,\n",
       " 'TRAVEL_AND_LOCAL': 2.34,\n",
       " 'SHOPPING': 2.25,\n",
       " 'BOOKS_AND_REFERENCE': 2.14,\n",
       " 'DATING': 1.86,\n",
       " 'VIDEO_PLAYERS': 1.79,\n",
       " 'MAPS_AND_NAVIGATION': 1.4,\n",
       " 'FOOD_AND_DRINK': 1.24,\n",
       " 'EDUCATION': 1.17,\n",
       " 'ENTERTAINMENT': 0.96,\n",
       " 'LIBRARIES_AND_DEMO': 0.94,\n",
       " 'AUTO_AND_VEHICLES': 0.93,\n",
       " 'HOUSE_AND_HOME': 0.82,\n",
       " 'WEATHER': 0.8,\n",
       " 'EVENTS': 0.71,\n",
       " 'PARENTING': 0.65,\n",
       " 'ART_AND_DESIGN': 0.64,\n",
       " 'COMICS': 0.62,\n",
       " 'BEAUTY': 0.6}"
      ]
     },
     "execution_count": 25,
     "metadata": {},
     "output_type": "execute_result"
    }
   ],
   "source": [
    "# Based on the category column\n",
    "\n",
    "display_table(Android_free_ENG,1)"
   ]
  },
  {
   "cell_type": "markdown",
   "metadata": {},
   "source": [
    "In comparison to the Apple App Store, the Android Google Play Store has a higher proportion of apps that fulfill practical purposes. The Google Play Store also has a smaller percentage of games and entertainment apps."
   ]
  },
  {
   "cell_type": "markdown",
   "metadata": {},
   "source": [
    "### Comparing number of installs "
   ]
  },
  {
   "cell_type": "markdown",
   "metadata": {},
   "source": [
    "The Apple App store dataset does not have information on the number of installs. Hence, I will be using the total number of user ratings as a proxy for the number of installs and then calculate the average number of user ratings for each genre.  "
   ]
  },
  {
   "cell_type": "code",
   "execution_count": 26,
   "metadata": {},
   "outputs": [
    {
     "data": {
      "text/plain": [
       "{'Games': 22813,\n",
       " 'Entertainment': 14030,\n",
       " 'Photo & Video': 28442,\n",
       " 'Education': 7004,\n",
       " 'Social Networking': 71548,\n",
       " 'Shopping': 26920,\n",
       " 'Utilities': 18684,\n",
       " 'Sports': 23009,\n",
       " 'Music': 57327,\n",
       " 'Health & Fitness': 23298,\n",
       " 'Productivity': 21028,\n",
       " 'Lifestyle': 16486,\n",
       " 'News': 21248,\n",
       " 'Travel': 28244,\n",
       " 'Finance': 31468,\n",
       " 'Weather': 52280,\n",
       " 'Food & Drink': 33334,\n",
       " 'Reference': 74942,\n",
       " 'Business': 7491,\n",
       " 'Book': 39758,\n",
       " 'Navigation': 86090,\n",
       " 'Medical': 612,\n",
       " 'Catalogs': 4004}"
      ]
     },
     "execution_count": 26,
     "metadata": {},
     "output_type": "execute_result"
    }
   ],
   "source": [
    "# Number of installs for each genre for Apple App Store\n",
    "\n",
    "genre_apple_installs={}\n",
    "\n",
    "for i in display_table(Apple_free_ENG,11):\n",
    "    if i not in genre_apple_installs:\n",
    "        genre_apple_installs[i]=0\n",
    "\n",
    "for genre in genre_apple_installs:\n",
    "    total=0\n",
    "    len_genre=0\n",
    "    for row in Apple_free_ENG[1:]:\n",
    "        if row[11]==genre:\n",
    "            total+=int(row[5]) # column 5 is total rating count\n",
    "            len_genre+=1\n",
    "    genre_apple_installs[genre]=round(total/len_genre)\n",
    "\n",
    "genre_apple_installs\n",
    "\n"
   ]
  },
  {
   "cell_type": "markdown",
   "metadata": {},
   "source": [
    "The Android Google Play Store has information on the number of installs as seen in the Installs column. However, it does not have the absolute number of installs. Rather, it shows 100,000+ or 10,000+ installs for example. \n",
    "\n",
    "To work around this, I will just ignore the '+' and use the value as a proxy (eg. 100,000+ as 100,000)"
   ]
  },
  {
   "cell_type": "code",
   "execution_count": 27,
   "metadata": {},
   "outputs": [
    {
     "data": {
      "text/plain": [
       "{'FAMILY': 6198995690,\n",
       " 'GAME': 13366869450,\n",
       " 'TOOLS': 8001043474,\n",
       " 'BUSINESS': 696902090,\n",
       " 'LIFESTYLE': 497484429,\n",
       " 'PRODUCTIVITY': 5791629314,\n",
       " 'FINANCE': 455163132,\n",
       " 'MEDICAL': 37632344,\n",
       " 'SPORTS': 1095230683,\n",
       " 'PERSONALIZATION': 1529235888,\n",
       " 'COMMUNICATION': 11036906201,\n",
       " 'HEALTH_AND_FITNESS': 1143548402,\n",
       " 'PHOTOGRAPHY': 4647268815,\n",
       " 'NEWS_AND_MAGAZINES': 2368196260,\n",
       " 'SOCIAL': 5487861902,\n",
       " 'TRAVEL_AND_LOCAL': 2894704086,\n",
       " 'SHOPPING': 1400338585,\n",
       " 'BOOKS_AND_REFERENCE': 1665884260,\n",
       " 'DATING': 140914757,\n",
       " 'VIDEO_PLAYERS': 3931731720,\n",
       " 'MAPS_AND_NAVIGATION': 503060780,\n",
       " 'FOOD_AND_DRINK': 211738751,\n",
       " 'EDUCATION': 189350000,\n",
       " 'ENTERTAINMENT': 989460000,\n",
       " 'LIBRARIES_AND_DEMO': 52995810,\n",
       " 'AUTO_AND_VEHICLES': 53080061,\n",
       " 'HOUSE_AND_HOME': 97202461,\n",
       " 'WEATHER': 360288520,\n",
       " 'EVENTS': 15973160,\n",
       " 'PARENTING': 31471010,\n",
       " 'ART_AND_DESIGN': 113221100,\n",
       " 'COMICS': 44971150,\n",
       " 'BEAUTY': 27197050}"
      ]
     },
     "execution_count": 27,
     "metadata": {},
     "output_type": "execute_result"
    }
   ],
   "source": [
    "# Number of installs for each genre for Android Google Play Store\n",
    "\n",
    "genre_android_installs={}\n",
    "\n",
    "for i in display_table(Android_free_ENG,1): # here I used the Category column instead of Genre column\n",
    "    if i not in genre_android_installs:\n",
    "        genre_android_installs[i]=0\n",
    "\n",
    "for genre in genre_android_installs:\n",
    "    for row in Android_free_ENG[1:]:\n",
    "        installs=row[5].replace('+','')\n",
    "        installs=installs.replace(',','')\n",
    "        installs=int(installs) # need to convert the string to integer\n",
    "        if row[1]==genre:\n",
    "            genre_android_installs[genre]+=installs # column 5 is total rating count\n",
    "\n",
    "genre_android_installs\n",
    "\n"
   ]
  },
  {
   "cell_type": "code",
   "execution_count": 28,
   "metadata": {},
   "outputs": [],
   "source": [
    "# create a function that sorts the frequency in descending order for dictionaries\n",
    "\n",
    "def sort_dictionary(dictionary):\n",
    "    sorted_dict={}\n",
    "    sorted_dict_keys=sorted(dictionary, key=dictionary.get, reverse=True)\n",
    "\n",
    "    for i in sorted_dict_keys:\n",
    "        sorted_dict[i]=dictionary[i]\n",
    "\n",
    "    return sorted_dict"
   ]
  },
  {
   "cell_type": "code",
   "execution_count": 29,
   "metadata": {},
   "outputs": [
    {
     "data": {
      "text/plain": [
       "{'Navigation': 86090,\n",
       " 'Reference': 74942,\n",
       " 'Social Networking': 71548,\n",
       " 'Music': 57327,\n",
       " 'Weather': 52280,\n",
       " 'Book': 39758,\n",
       " 'Food & Drink': 33334,\n",
       " 'Finance': 31468,\n",
       " 'Photo & Video': 28442,\n",
       " 'Travel': 28244,\n",
       " 'Shopping': 26920,\n",
       " 'Health & Fitness': 23298,\n",
       " 'Sports': 23009,\n",
       " 'Games': 22813,\n",
       " 'News': 21248,\n",
       " 'Productivity': 21028,\n",
       " 'Utilities': 18684,\n",
       " 'Lifestyle': 16486,\n",
       " 'Entertainment': 14030,\n",
       " 'Business': 7491,\n",
       " 'Education': 7004,\n",
       " 'Catalogs': 4004,\n",
       " 'Medical': 612}"
      ]
     },
     "execution_count": 29,
     "metadata": {},
     "output_type": "execute_result"
    }
   ],
   "source": [
    "sort_dictionary(genre_apple_installs)"
   ]
  },
  {
   "cell_type": "code",
   "execution_count": 30,
   "metadata": {},
   "outputs": [
    {
     "data": {
      "text/plain": [
       "{'GAME': 13366869450,\n",
       " 'COMMUNICATION': 11036906201,\n",
       " 'TOOLS': 8001043474,\n",
       " 'FAMILY': 6198995690,\n",
       " 'PRODUCTIVITY': 5791629314,\n",
       " 'SOCIAL': 5487861902,\n",
       " 'PHOTOGRAPHY': 4647268815,\n",
       " 'VIDEO_PLAYERS': 3931731720,\n",
       " 'TRAVEL_AND_LOCAL': 2894704086,\n",
       " 'NEWS_AND_MAGAZINES': 2368196260,\n",
       " 'BOOKS_AND_REFERENCE': 1665884260,\n",
       " 'PERSONALIZATION': 1529235888,\n",
       " 'SHOPPING': 1400338585,\n",
       " 'HEALTH_AND_FITNESS': 1143548402,\n",
       " 'SPORTS': 1095230683,\n",
       " 'ENTERTAINMENT': 989460000,\n",
       " 'BUSINESS': 696902090,\n",
       " 'MAPS_AND_NAVIGATION': 503060780,\n",
       " 'LIFESTYLE': 497484429,\n",
       " 'FINANCE': 455163132,\n",
       " 'WEATHER': 360288520,\n",
       " 'FOOD_AND_DRINK': 211738751,\n",
       " 'EDUCATION': 189350000,\n",
       " 'DATING': 140914757,\n",
       " 'ART_AND_DESIGN': 113221100,\n",
       " 'HOUSE_AND_HOME': 97202461,\n",
       " 'AUTO_AND_VEHICLES': 53080061,\n",
       " 'LIBRARIES_AND_DEMO': 52995810,\n",
       " 'COMICS': 44971150,\n",
       " 'MEDICAL': 37632344,\n",
       " 'PARENTING': 31471010,\n",
       " 'BEAUTY': 27197050,\n",
       " 'EVENTS': 15973160}"
      ]
     },
     "execution_count": 30,
     "metadata": {},
     "output_type": "execute_result"
    }
   ],
   "source": [
    "sort_dictionary(genre_android_installs)"
   ]
  },
  {
   "cell_type": "markdown",
   "metadata": {},
   "source": [
    "It seems that in the Apple App Store, even though productive practical apps are less common, they have the highest number of users and much higher than entertainment apps\n",
    "\n",
    "On the other hand, although the Android Google Play Store did not have a high proportion of games, the 'Games' category had the highest number of installations. "
   ]
  },
  {
   "cell_type": "markdown",
   "metadata": {},
   "source": [
    "### Recommended App Genre\n",
    "\n",
    "Based on the above findings, it is recommended to develop an app that has a **practical value**, such as a **navigation app**. It has the highest number of users in the Apple app store and although not the highest in the Google Play Store, there are still many installations at 503 million.\n",
    "\n",
    "This app genre is likely to have a high potential for being profitable in both the App Store and Google Play store. \n",
    "\n"
   ]
  },
  {
   "cell_type": "code",
   "execution_count": 31,
   "metadata": {},
   "outputs": [
    {
     "data": {
      "text/plain": [
       "{'Waze - GPS Navigation, Maps & Real-time Traffic': 345046,\n",
       " 'Google Maps - Navigation & Transit': 154911,\n",
       " 'Geocaching®': 12811,\n",
       " 'CoPilot GPS – Car Navigation & Offline Maps': 3582,\n",
       " 'ImmobilienScout24: Real Estate Search in Germany': 187,\n",
       " 'Railway Route Search': 5}"
      ]
     },
     "execution_count": 31,
     "metadata": {},
     "output_type": "execute_result"
    }
   ],
   "source": [
    "# Examine Navigation apps in Apple App Store\n",
    "\n",
    "Navigation_apple={}\n",
    "for i in Apple_free_ENG[1:]:\n",
    "    name=i[1]\n",
    "    if i[11]=='Navigation':\n",
    "        Navigation_apple[name]=0\n",
    "\n",
    "for app_name in Navigation_apple:\n",
    "    for row in Apple_free_ENG[1:]:\n",
    "        if row[1]==app_name:\n",
    "            Navigation_apple[app_name]+=int(row[5])\n",
    "\n",
    "Navigation_apple"
   ]
  },
  {
   "cell_type": "code",
   "execution_count": 32,
   "metadata": {},
   "outputs": [
    {
     "data": {
      "text/plain": [
       "{'Waze - GPS, Maps, Traffic Alerts & Live Navigation': 100000000,\n",
       " 'Uber': 100000000,\n",
       " 'GPS Navigation & Offline Maps Sygic': 50000000,\n",
       " 'Free GPS Navigation': 50000000,\n",
       " 'MapQuest: Directions, Maps, GPS & Navigation': 10000000,\n",
       " 'Yahoo! transit guide free timetable, operation information, transfer search': 10000000,\n",
       " 'Yandex.Transport': 10000000,\n",
       " 'Compass': 10000000,\n",
       " 'Subway Terminator: Smarter Subway': 10000000,\n",
       " 'Moovit: Bus Time & Train Time Live Info': 10000000,\n",
       " 'AT&T DriveMode': 10000000,\n",
       " 'TomTom GPS Navigation Traffic': 10000000,\n",
       " 'DB Navigator': 10000000,\n",
       " 'Maps, GPS Navigation & Directions, Street View': 10000000,\n",
       " 'T map (te map, T map, navigation)': 5000000,\n",
       " '乗換NAVITIME\\u3000Timetable & Route Search in Japan Tokyo': 5000000,\n",
       " 'Transit: Real-Time Transit App': 5000000,\n",
       " 'My Location: GPS Maps, Share & Save Places': 5000000,\n",
       " 'Yanosik: \"antyradar\", traffic jams, navigation, camera': 5000000,\n",
       " 'NAVITIME - Map & Transfer Navi': 5000000,\n",
       " 'Sygic Car Navigation': 5000000,\n",
       " 'GPS Traffic Speedcam Route Planner by ViaMichelin': 5000000,\n",
       " 'Grab Driver': 5000000,\n",
       " 'Blitzer.de': 5000000,\n",
       " 'Radarbot Free: Speed Camera Detector & Speedometer': 5000000,\n",
       " 'Yandex.Trains': 5000000,\n",
       " 'Maps & GPS Navigation — OsmAnd': 5000000,\n",
       " 'Speed Camera Radar': 5000000,\n",
       " 'Citymapper - Transit Navigation': 5000000,\n",
       " 'Mapy.cz - Cycling & Hiking offline maps': 1000000,\n",
       " 'Air Traffic': 1000000,\n",
       " 'Speed Cameras Radar': 1000000,\n",
       " 'Atlan3D Navigation: Korea navigator': 1000000,\n",
       " 'Mappy - Plan, route comparison, GPS': 1000000,\n",
       " 'Czech Public Transport IDOS': 1000000,\n",
       " 'Karta GPS - Offline Navigation': 1000000,\n",
       " 'Circle ratio': 1000000,\n",
       " 'Soviet Military Maps Free': 1000000,\n",
       " 'Snapp': 1000000,\n",
       " 'GPS Speedometer and Odometer': 1000000,\n",
       " 'Trucker Path – Truck Stops & Weigh Stations': 1000000,\n",
       " 'Map Coordinates': 1000000,\n",
       " 'SBB Mobile': 1000000,\n",
       " 'GPS Speedometer, Distance Meter': 1000000,\n",
       " 'GPS Speedometer - Trip Meter - Altimeter': 1000000,\n",
       " 'FindShip': 1000000,\n",
       " 'ÖBB Scotty': 1000000,\n",
       " 'NAVITIME Bus Transit JAPAN': 1000000,\n",
       " 'hum app': 1000000,\n",
       " 'National Rail Enquiries': 1000000,\n",
       " 'ixigo Cabs-Compare & Book Taxi': 1000000,\n",
       " 'Robin - AI Voice Assistant': 1000000,\n",
       " 'DS Speedometer & Odometer': 1000000,\n",
       " 'Rail Planner Eurail/Interrail': 1000000,\n",
       " 'Map and Router Badge': 500000,\n",
       " 'DB Streckenagent': 500000,\n",
       " 'Red Transporte DF': 500000,\n",
       " 'Gps Route Finder': 100000,\n",
       " 'Truck Car Navi by Navitime Large size car, traffic jam, traffic closure, live camera, typhoon / precipitation map': 100000,\n",
       " 'Sentin Information Map': 100000,\n",
       " 'Alopec - Online Shipping System': 100000,\n",
       " 'Berlin Subway – BVG U-Bahn & S-Bahn map and routes': 100000,\n",
       " 'Strætó.is': 100000,\n",
       " 'Comboios de Portugal': 100000,\n",
       " 'Cestovné poriadky CP': 100000,\n",
       " 'Traffic Info and Traffic Alert': 100000,\n",
       " 'Discovery Insure': 100000,\n",
       " 'PlugShare': 100000,\n",
       " 'Dynavix - Navigation, Maps, Traffic data & Cameras': 50000,\n",
       " 'Südtirol2Go': 50000,\n",
       " 'DC Rider': 50000,\n",
       " 'ChargeHub - Find EV & Tesla Charging Stations': 50000,\n",
       " 'NEXTCHARGE - Charging Stations': 50000,\n",
       " 'My G:': 10000,\n",
       " 'Q-Ticketing': 10000,\n",
       " 'Vienna U-Bahn': 10000,\n",
       " 'BL Driver': 10000,\n",
       " 'BU Bus Tracker': 10000,\n",
       " 'Truck Chat & CB for Truckers': 10000,\n",
       " 'Co-op Taxi': 10000,\n",
       " 'Cyprus Bus Companion': 10000,\n",
       " 'DB Transport': 10000,\n",
       " 'DB Busradar NRW': 10000,\n",
       " 'DC Metro': 10000,\n",
       " 'Transport DK': 10000,\n",
       " 'Zap-Map: EV charging points UK': 10000,\n",
       " 'Gainesville Bus Tracker': 10000,\n",
       " 'Hondata Mobile': 10000,\n",
       " 'Plan B': 5000,\n",
       " 'Big Q Car Service': 5000,\n",
       " 'MBTA GPS - Track the T': 5000,\n",
       " 'Táxi Nacional BR': 5000,\n",
       " 'BW Taxi': 5000,\n",
       " 'MYTO CZ': 5000,\n",
       " 'Convert Coordinates DM to DMS': 5000,\n",
       " 'JuiceNet - Smart EV Charging': 5000,\n",
       " 'payermonstationnement.fr': 5000,\n",
       " 'A & B Taxi': 1000,\n",
       " 'GPS.AZ': 1000,\n",
       " 'Cordova BG Geolocation': 1000,\n",
       " 'BL Taxi': 1000,\n",
       " 'BT Mobile': 1000,\n",
       " 'CY:ME - real time gps tracker': 1000,\n",
       " 'Hamburg Transit - Offline HVV DB times and plans': 1000,\n",
       " 'EV Connect': 1000,\n",
       " 'EV Stations Hawaii': 1000,\n",
       " 'EV Charging': 1000,\n",
       " 'ELMO EV Charging': 1000,\n",
       " 'Power Plug EV charger': 1000,\n",
       " 'Posta App': 1000,\n",
       " 'FP Legacy': 1000,\n",
       " 'DF 司機': 500,\n",
       " 'FC Parking': 500,\n",
       " 'British Columbia Transit Info': 100,\n",
       " 'Tour BD (Bahir Dar Map)': 100,\n",
       " 'CD COMET': 100,\n",
       " 'DM TrackMan': 100,\n",
       " 'DV Car Service': 100,\n",
       " 'TrainPal EU- Book German Train Tickets': 100,\n",
       " 'Electric Car Charging Points: Ev charger Stations': 100,\n",
       " 'BS MAPS': 50,\n",
       " 'AJ Reminders': 10,\n",
       " 'BV Taxi - Driver': 10,\n",
       " 'BV Taxi Sudan': 10}"
      ]
     },
     "execution_count": 32,
     "metadata": {},
     "output_type": "execute_result"
    }
   ],
   "source": [
    "# Examine Navigation apps in Android Google Play Store\n",
    "\n",
    "Navigation_android={}\n",
    "for i in Android_free_ENG[1:]:\n",
    "    name=i[0]\n",
    "    if i[1]=='MAPS_AND_NAVIGATION':\n",
    "        Navigation_android[name]=0\n",
    "\n",
    "for app_name in Navigation_android:\n",
    "    for row in Android_free_ENG[1:]:\n",
    "        if row[0]==app_name:\n",
    "            installs=row[5].replace('+','')\n",
    "            installs=installs.replace(',','')\n",
    "            installs=int(installs)\n",
    "            Navigation_android[app_name]+=installs\n",
    "\n",
    "sort_dictionary(Navigation_android)"
   ]
  },
  {
   "cell_type": "markdown",
   "metadata": {},
   "source": [
    "## Conclusion \n",
    "\n",
    "Although Navigation apps have the highest installations in the Apple app store, there are only 6 apps, dominated by traffic navigation apps. \n",
    "\n",
    "The Android Google Play Store has a much larger variety of navigation apps. It also seems to be dominated by traffic navigation apps and transport timing apps. \n",
    "\n",
    "Therefore, I would suggest app developers to consider creating more niche navigation apps for more targeted groups. I listed 2 examples of navigation apps below:\n",
    "\n",
    "1. Navigation apps for delivery services. For example, even though giants like Waze and Google Maps are widely used, they suggest routes for cars. They do not have features that consider optimal routes for other larger modes of transport like lorries or heavy trucks. \n",
    "For delivery lorries/trucks, certain routes may not be accessible due to height restrictions and following Google Maps or Waze may lead to unnecessary detours as a result. \n",
    "\n",
    "2. Navigation apps for trekking/ outdoor sports such as cycling. In forrested areas, satellite map views may not be helpful and internet connection may be poor. Offline trail maps that show views of the route from the ground may be better. Also, not all terrains may be suited for cycling and can get more dangerous after bad weather conditions. The app could have community features that enable outdoor enthusiasts to contribute suggestions and images of trekking/cycling routes and provide recommendations on difficulty level for completion. "
   ]
  },
  {
   "cell_type": "markdown",
   "metadata": {},
   "source": [
    "### Limitations\n",
    "\n",
    "Both datasets were scraped in 2018. There may have been different trends as of 2022\n",
    "\n",
    "The current analysis is only for English apps that are free. It is unclear if charging a price would render the app to be more profitable overall. \n",
    "\n",
    "More research needs to be done to determine the type of navigation app to be developed"
   ]
  }
 ],
 "metadata": {
  "kernelspec": {
   "display_name": "Python 3.10.6 64-bit",
   "language": "python",
   "name": "python3"
  },
  "language_info": {
   "codemirror_mode": {
    "name": "ipython",
    "version": 3
   },
   "file_extension": ".py",
   "mimetype": "text/x-python",
   "name": "python",
   "nbconvert_exporter": "python",
   "pygments_lexer": "ipython3",
   "version": "3.10.6"
  },
  "orig_nbformat": 4,
  "vscode": {
   "interpreter": {
    "hash": "aee8b7b246df8f9039afb4144a1f6fd8d2ca17a180786b69acc140d282b71a49"
   }
  }
 },
 "nbformat": 4,
 "nbformat_minor": 2
}
